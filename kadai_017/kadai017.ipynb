{
  "nbformat": 4,
  "nbformat_minor": 0,
  "metadata": {
    "colab": {
      "provenance": []
    },
    "kernelspec": {
      "name": "python3",
      "display_name": "Python 3"
    },
    "language_info": {
      "name": "python"
    }
  },
  "cells": [
    {
      "cell_type": "code",
      "execution_count": 2,
      "metadata": {
        "id": "ZX2a4lHo5TA4",
        "outputId": "a4194060-aa95-4af0-fe88-c6b0fc47a19d",
        "colab": {
          "base_uri": "https://localhost:8080/"
        }
      },
      "outputs": [
        {
          "output_type": "stream",
          "name": "stdout",
          "text": [
            "大人です。\n",
            "大人です。\n",
            "大人ではありません。\n"
          ]
        }
      ],
      "source": [
        "#クラス：Human\n",
        "#属性：名前(name)、年齢(age)\n",
        "#メソッド：check_adult(20以上か以外かでprint)\n",
        "#Humanクラスのインスタンスを複数生成、リストに入れてメソッド呼び出し\n",
        "\n",
        "class Human:\n",
        "  def __init__(self, name, age):\n",
        "    self.name = name\n",
        "    self.age = age\n",
        "\n",
        "  def check_adult(self):\n",
        "    if self.age < 20:\n",
        "      print(\"大人ではありません。\")\n",
        "    else:\n",
        "      print(\"大人です。\")\n",
        "\n",
        "human1 = Human(\"侍太郎\", 36)\n",
        "human2 = Human(\"侍花子\", 34)\n",
        "human3 = Human(\"侍一郎\", 18)\n",
        "\n",
        "human_array=[human1, human2, human3]\n",
        "\n",
        "for i in human_array:\n",
        "  i.check_adult()\n"
      ]
    }
  ]
}