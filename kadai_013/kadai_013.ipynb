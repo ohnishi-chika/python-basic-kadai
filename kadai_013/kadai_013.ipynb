{
  "nbformat": 4,
  "nbformat_minor": 0,
  "metadata": {
    "colab": {
      "provenance": []
    },
    "kernelspec": {
      "name": "python3",
      "display_name": "Python 3"
    },
    "language_info": {
      "name": "python"
    }
  },
  "cells": [
    {
      "cell_type": "code",
      "execution_count": 1,
      "metadata": {
        "id": "ZX2a4lHo5TA4",
        "outputId": "df1d3104-50b5-49fe-8d9b-c073005b8cbd",
        "colab": {
          "base_uri": "https://localhost:8080/"
        }
      },
      "outputs": [
        {
          "output_type": "stream",
          "name": "stdout",
          "text": [
            "121.00000000000001\n"
          ]
        }
      ],
      "source": [
        "#課題\n",
        "#関数　税込み価格：tax_inc\n",
        "#変数　商品：product、消費税：tax\n",
        "\n",
        "def tax_inc(product: int, tax: int):\n",
        "  tax_inc = product * (1 + tax / 100)\n",
        "  return tax_inc\n",
        "\n",
        "print(tax_inc(110, 10))"
      ]
    }
  ]
}