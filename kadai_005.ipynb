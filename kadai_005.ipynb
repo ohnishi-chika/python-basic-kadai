{
  "nbformat": 4,
  "nbformat_minor": 0,
  "metadata": {
    "colab": {
      "provenance": []
    },
    "kernelspec": {
      "name": "python3",
      "display_name": "Python 3"
    },
    "language_info": {
      "name": "python"
    }
  },
  "cells": [
    {
      "cell_type": "markdown",
      "source": [
        "##課題　変数を使って四則演算しよう\n",
        "\n",
        "####上辺:10cm、下辺：20cm、高さ：5cm\n",
        "####台形の面積を求める"
      ],
      "metadata": {
        "id": "08oKcxMvzhVQ"
      }
    },
    {
      "cell_type": "code",
      "execution_count": 1,
      "metadata": {
        "colab": {
          "base_uri": "https://localhost:8080/"
        },
        "id": "V18g3M5_yxS4",
        "outputId": "1a735a5e-3172-41d1-8716-b8fcf0f3e6e2"
      },
      "outputs": [
        {
          "output_type": "stream",
          "name": "stdout",
          "text": [
            "75.0\n"
          ]
        }
      ],
      "source": [
        "upper = 10\n",
        "under = 20\n",
        "heigh = 5\n",
        "\n",
        "area = (upper + under) * heigh / 2\n",
        "print(area)"
      ]
    },
    {
      "cell_type": "code",
      "source": [],
      "metadata": {
        "id": "QmGlgKys0K5k"
      },
      "execution_count": null,
      "outputs": []
    }
  ]
}