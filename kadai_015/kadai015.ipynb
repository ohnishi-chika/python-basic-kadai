{
  "nbformat": 4,
  "nbformat_minor": 0,
  "metadata": {
    "colab": {
      "provenance": []
    },
    "kernelspec": {
      "name": "python3",
      "display_name": "Python 3"
    },
    "language_info": {
      "name": "python"
    }
  },
  "cells": [
    {
      "cell_type": "code",
      "execution_count": 1,
      "metadata": {
        "id": "ZX2a4lHo5TA4",
        "outputId": "6a020463-6104-4c34-d9b4-ed29e531d36a",
        "colab": {
          "base_uri": "https://localhost:8080/"
        }
      },
      "outputs": [
        {
          "output_type": "stream",
          "name": "stdout",
          "text": [
            "侍太郎\n",
            "36\n"
          ]
        }
      ],
      "source": [
        "#クラス　Human\n",
        "#属性　名前(name)、年齢(age)\n",
        "#メソッド　printinfo\n",
        "\n",
        "class Human:\n",
        "  def __init__(self, name, age):\n",
        "    self.name = name\n",
        "    self.age = age\n",
        "\n",
        "  def printinfo(self):\n",
        "    print(self.name)\n",
        "    print(self.age)\n",
        "\n",
        "human = Human(\"侍太郎\", 36)\n",
        "human.printinfo()"
      ]
    },
    {
      "cell_type": "code",
      "source": [],
      "metadata": {
        "id": "tACGGtQbgcue"
      },
      "execution_count": null,
      "outputs": []
    }
  ]
}